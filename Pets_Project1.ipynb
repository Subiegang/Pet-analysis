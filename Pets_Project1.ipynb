{
  "nbformat": 4,
  "nbformat_minor": 0,
  "metadata": {
    "colab": {
      "provenance": []
    },
    "kernelspec": {
      "name": "python3",
      "display_name": "Python 3"
    },
    "language_info": {
      "name": "python"
    }
  },
  "cells": [
    {
      "cell_type": "markdown",
      "source": [
        "TASK 1"
      ],
      "metadata": {
        "id": "AJsCj3h0Leln"
      }
    },
    {
      "cell_type": "code",
      "execution_count": 54,
      "metadata": {
        "id": "uygJN-nyKWYp"
      },
      "outputs": [],
      "source": [
        "import pandas as pd\n",
        "\n",
        "def load_data(file_path):\n",
        "    return pd.read_csv(file_path)\n",
        "\n"
      ]
    },
    {
      "cell_type": "code",
      "source": [
        "def clean_data(df):\n",
        "    # Check if 'PetID' exists before dropping it\n",
        "    if 'PetID' in df.columns:\n",
        "        df = df.drop('PetID', axis=1)  # Drop 'PetID' column\n",
        "\n",
        "    # Check for missing values\n",
        "    if df.isnull().values.any():\n",
        "        df = df.dropna()  # Drop rows with missing values\n",
        "\n",
        "    # Convert Birthdate column to datetime\n",
        "    df['Birthdate'] = pd.to_datetime(df['Birthdate'])\n",
        "\n",
        "    # Ensure Price column is numeric\n",
        "    df['Price'] = pd.to_numeric(df['Price'], errors='coerce')\n",
        "\n",
        "    return df\n",
        "\n",
        "\n"
      ],
      "metadata": {
        "id": "8z13RrM-NHEt"
      },
      "execution_count": 55,
      "outputs": []
    },
    {
      "cell_type": "markdown",
      "source": [
        "TASK 2"
      ],
      "metadata": {
        "id": "t8M95CIgLo7V"
      }
    },
    {
      "cell_type": "code",
      "source": [
        "def calculate_average_price(df, species):\n",
        "    species_data = df[df['Species'] == species]\n",
        "    average_price = species_data['Price'].mean()\n",
        "    return average_price\n",
        "\n"
      ],
      "metadata": {
        "id": "znwNzW_5Lqut"
      },
      "execution_count": 56,
      "outputs": []
    },
    {
      "cell_type": "code",
      "source": [
        "def find_pets_with_feature(df, feature):\n",
        "    feature_pets = df[df['SpecialFeature'] == feature]\n",
        "    pet_names = feature_pets['Name'].tolist()\n",
        "    return pet_names\n",
        "\n"
      ],
      "metadata": {
        "id": "Vps_jieXNNqD"
      },
      "execution_count": 57,
      "outputs": []
    },
    {
      "cell_type": "markdown",
      "source": [
        "TASK 3"
      ],
      "metadata": {
        "id": "-lPHMMynMAd4"
      }
    },
    {
      "cell_type": "code",
      "source": [
        "def get_species_statistics(df):\n",
        "    species_stats = {}\n",
        "\n",
        "    # Group by species\n",
        "    grouped_species = df.groupby('Species')\n",
        "\n",
        "    # Calculate average price and age for each species\n",
        "    for species, group in grouped_species:\n",
        "        avg_price = group['Price'].mean()\n",
        "        avg_age = group['Age'].mean()\n",
        "        species_stats[species] = {'Average Price': avg_price, 'Average Age': avg_age}\n",
        "\n",
        "    return species_stats\n",
        "\n"
      ],
      "metadata": {
        "id": "9i-UKDxAMB1J"
      },
      "execution_count": 58,
      "outputs": []
    },
    {
      "cell_type": "code",
      "source": [
        "import json\n",
        "from pet_analysis import load_data, clean_data, get_species_statistics\n",
        "\n",
        "# Load data\n",
        "file_path = 'pets.csv'\n",
        "pets_df = load_data(file_path)\n",
        "\n",
        "# Clean data\n",
        "cleaned_df = clean_data(pets_df)\n",
        "\n",
        "# Get species statistics\n",
        "species_stats = get_species_statistics(cleaned_df)\n",
        "\n",
        "# Print the formatted output\n",
        "formatted_output = json.dumps(species_stats, indent=4)\n",
        "print(formatted_output)\n",
        "\n"
      ],
      "metadata": {
        "colab": {
          "base_uri": "https://localhost:8080/"
        },
        "id": "enrVtfsbX632",
        "outputId": "aa35c5c7-ad03-498e-e800-33c636fc3504"
      },
      "execution_count": 59,
      "outputs": [
        {
          "output_type": "stream",
          "name": "stdout",
          "text": [
            "{\n",
            "    \"Bird\": {\n",
            "        \"Average Price\": 68.92999999999999,\n",
            "        \"Average Age\": 2.2857142857142856\n",
            "    },\n",
            "    \"Reptile\": {\n",
            "        \"Average Price\": 77.59555555555556,\n",
            "        \"Average Age\": 4.222222222222222\n",
            "    },\n",
            "    \"Small Animal\": {\n",
            "        \"Average Price\": 95.64285714285715,\n",
            "        \"Average Age\": 2.857142857142857\n",
            "    },\n",
            "    \"Dog\": {\n",
            "        \"Average Price\": 86.615,\n",
            "        \"Average Age\": 3.1666666666666665\n",
            "    },\n",
            "    \"Cat\": {\n",
            "        \"Average Price\": 90.14181818181818,\n",
            "        \"Average Age\": 2.4545454545454546\n",
            "    },\n",
            "    \"Rabbit\": {\n",
            "        \"Average Price\": 90.60615384615383,\n",
            "        \"Average Age\": 3.076923076923077\n",
            "    }\n",
            "}\n"
          ]
        }
      ]
    },
    {
      "cell_type": "markdown",
      "source": [
        "TASK 4"
      ],
      "metadata": {
        "id": "TLq_6QKtYyHV"
      }
    },
    {
      "cell_type": "code",
      "source": [
        "import matplotlib.pyplot as plt\n",
        "\n",
        "def plot_price_distribution(df):\n",
        "    plt.figure(figsize=(10, 6))\n",
        "    plt.hist(df['Price'], bins=20, color='skyblue', edgecolor='black')\n",
        "    plt.xlabel('Price')\n",
        "    plt.ylabel('Frequency')\n",
        "    plt.title('Price Distribution')\n",
        "    plt.grid(True)\n",
        "    plt.savefig('price_distribution.png')\n",
        "    plt.show()\n"
      ],
      "metadata": {
        "id": "r8uJL0PlYxqu"
      },
      "execution_count": 60,
      "outputs": []
    },
    {
      "cell_type": "code",
      "source": [
        "def plot_average_price_by_species(df):\n",
        "    avg_price_by_species = df.groupby('Species')['Price'].mean().sort_values()\n",
        "    plt.figure(figsize=(10, 6))\n",
        "    avg_price_by_species.plot(kind='bar', color='green')\n",
        "    plt.xlabel('Species')\n",
        "    plt.ylabel('Average Price')\n",
        "    plt.title('Average Price by Species')\n",
        "    plt.grid(axis='y')\n",
        "    plt.xticks(rotation=45, ha='right')\n",
        "    plt.tight_layout()\n",
        "    plt.savefig('average_price_by_species.png')\n",
        "    plt.show()\n"
      ],
      "metadata": {
        "id": "YdfNKhprY427"
      },
      "execution_count": 61,
      "outputs": []
    },
    {
      "cell_type": "code",
      "source": [
        "\n",
        "# Call function to plot price distribution\n",
        "plot_price_distribution(pets_df)\n",
        "\n",
        "# Call function to plot average price by species\n",
        "plot_average_price_by_species(pets_df)\n"
      ],
      "metadata": {
        "colab": {
          "base_uri": "https://localhost:8080/",
          "height": 1000
        },
        "id": "0pmW2uc9ZOsy",
        "outputId": "73028a5d-ef7f-43a9-a49d-2574aa436c4f"
      },
      "execution_count": 62,
      "outputs": [
        {
          "output_type": "display_data",
          "data": {
            "text/plain": [
              "<Figure size 1000x600 with 1 Axes>"
            ],
            "image/png": "[encoded data removed]"
          },
          "metadata": {}
        },
        {
          "output_type": "display_data",
          "data": {
            "text/plain": [
              "<Figure size 1000x600 with 1 Axes>"
            ],
            "image/png": "[encoded data removed]"
          },
          "metadata": {}
        }
      ]
    },
    {
      "cell_type": "markdown",
      "source": [
        "TASK 5"
      ],
      "metadata": {
        "id": "NL6N1KMAZguE"
      }
    },
    {
      "cell_type": "code",
      "source": [
        "import seaborn as sns\n",
        "import matplotlib.pyplot as plt\n",
        "\n",
        "def plot_price_vs_age(df):\n",
        "    plt.figure(figsize=(10, 6))\n",
        "    sns.scatterplot(data=df, x='Age', y='Price')\n",
        "    plt.title('Price vs Age')\n",
        "    plt.xlabel('Age')\n",
        "    plt.ylabel('Price')\n",
        "    plt.savefig('price_vs_age.png')\n",
        "    plt.show()\n",
        "\n"
      ],
      "metadata": {
        "id": "TUyTOJX2ZgQo"
      },
      "execution_count": 63,
      "outputs": []
    },
    {
      "cell_type": "code",
      "source": [
        "!pip install -U kaleido"
      ],
      "metadata": {
        "colab": {
          "base_uri": "https://localhost:8080/"
        },
        "id": "ElZsPldyfcd9",
        "outputId": "cb8cff82-73fd-44d1-fd45-c041ccfd631d"
      },
      "execution_count": 110,
      "outputs": [
        {
          "output_type": "stream",
          "name": "stdout",
          "text": [
            "\u001b[33mWARNING: Ignoring invalid distribution -lotly (/usr/local/lib/python3.10/dist-packages)\u001b[0m\u001b[33m\n",
            "\u001b[0mRequirement already satisfied: kaleido in /usr/local/lib/python3.10/dist-packages (0.2.1)\n",
            "\u001b[33mWARNING: Ignoring invalid distribution -lotly (/usr/local/lib/python3.10/dist-packages)\u001b[0m\u001b[33m\n",
            "\u001b[0m"
          ]
        }
      ]
    },
    {
      "cell_type": "code",
      "source": [
        "# Import necessary libraries\n",
        "import pandas as pd\n",
        "import seaborn as sns\n",
        "import plotly.express as px\n",
        "import plotly.io as pio\n",
        "import matplotlib.pyplot as plt\n",
        "\n",
        "# Load data\n",
        "file_path = 'path/to/pets.csv'\n",
        "pets_df = pd.read_csv(file_path)\n",
        "\n",
        "# Clean data\n",
        "def clean_data(df):\n",
        "    # Add code for data cleaning here\n",
        "    return df\n",
        "\n",
        "# Plot price distribution using Seaborn\n",
        "def plot_price_distribution(df):\n",
        "    plt.figure(figsize=(10, 6))\n",
        "    sns.histplot(df['Price'], bins=20, kde=True)\n",
        "    plt.title('Price Distribution')\n",
        "    plt.xlabel('Price')\n",
        "    plt.ylabel('Frequency')\n",
        "    plt.savefig('price_distribution.png')\n",
        "    plt.show()\n",
        "\n",
        "# Plot average price by species using Plotly\n",
        "def plot_average_price_by_species(df):\n",
        "    avg_price_by_species = df.groupby('Species')['Price'].mean().reset_index()\n",
        "    fig = px.bar(avg_price_by_species, x='Species', y='Price', title='Average Price by Species')\n",
        "    fig.update_layout(xaxis_title='Species', yaxis_title='Average Price')\n",
        "    fig.write_image('average_price_by_species.png')\n",
        "    fig.show()\n",
        "\n",
        "# Function to plot price vs age using Seaborn\n",
        "def plot_price_vs_age(df):\n",
        "    plt.figure(figsize=(10, 6))\n",
        "    sns.scatterplot(data=df, x='Age', y='Price')\n",
        "    plt.title('Price vs Age')\n",
        "    plt.xlabel('Age')\n",
        "    plt.ylabel('Price')\n",
        "    plt.savefig('price_vs_age.png')\n",
        "    plt.show()\n",
        "\n",
        "# Function to plot age distribution by species using Plotly\n",
        "def plot_age_distribution_by_species(df):\n",
        "    fig = px.box(df, x='Species', y='Age', title='Age Distribution by Species')\n",
        "    fig.update_layout(xaxis_title='Species', yaxis_title='Age')\n",
        "    fig.write_image('age_distribution_by_species.png')\n",
        "    fig.show()\n",
        "\n",
        "# Set the orca executable path\n",
        "pio.orca.config.executable = '/path/to/your/orca/executable'\n",
        "\n",
        "# Call the functions\n",
        "cleaned_df = clean_data(pets_df)\n",
        "plot_price_distribution(cleaned_df)\n",
        "plot_average_price_by_species(cleaned_df)\n",
        "plot_price_vs_age(cleaned_df)\n",
        "plot_age_distribution_by_species(cleaned_df)\n",
        "\n"
      ],
      "metadata": {
        "colab": {
          "base_uri": "https://localhost:8080/",
          "height": 356
        },
        "id": "zEldhYsecPJS",
        "outputId": "b68c9b36-852e-400b-8615-6b9f14c0c7cd"
      },
      "execution_count": 115,
      "outputs": [
        {
          "output_type": "error",
          "ename": "FileNotFoundError",
          "evalue": "[Errno 2] No such file or directory: 'path/to/pets.csv'",
          "traceback": [
            "\u001b[0;31m---------------------------------------------------------------------------\u001b[0m",
            "\u001b[0;31mFileNotFoundError\u001b[0m                         Traceback (most recent call last)",
            "\u001b[0;32m<ipython-input-115-9dfd783afb29>\u001b[0m in \u001b[0;36m<cell line: 10>\u001b[0;34m()\u001b[0m\n\u001b[1;32m      8\u001b[0m \u001b[0;31m# Load data\u001b[0m\u001b[0;34m\u001b[0m\u001b[0;34m\u001b[0m\u001b[0m\n\u001b[1;32m      9\u001b[0m \u001b[0mfile_path\u001b[0m \u001b[0;34m=\u001b[0m \u001b[0;34m'path/to/pets.csv'\u001b[0m\u001b[0;34m\u001b[0m\u001b[0;34m\u001b[0m\u001b[0m\n\u001b[0;32m---> 10\u001b[0;31m \u001b[0mpets_df\u001b[0m \u001b[0;34m=\u001b[0m \u001b[0mpd\u001b[0m\u001b[0;34m.\u001b[0m\u001b[0mread_csv\u001b[0m\u001b[0;34m(\u001b[0m\u001b[0mfile_path\u001b[0m\u001b[0;34m)\u001b[0m\u001b[0;34m\u001b[0m\u001b[0;34m\u001b[0m\u001b[0m\n\u001b[0m\u001b[1;32m     11\u001b[0m \u001b[0;34m\u001b[0m\u001b[0m\n\u001b[1;32m     12\u001b[0m \u001b[0;31m# Clean data\u001b[0m\u001b[0;34m\u001b[0m\u001b[0;34m\u001b[0m\u001b[0m\n",
            "\u001b[0;32m/usr/local/lib/python3.10/dist-packages/pandas/io/parsers/readers.py\u001b[0m in \u001b[0;36mread_csv\u001b[0;34m(filepath_or_buffer, sep, delimiter, header, names, index_col, usecols, dtype, engine, converters, true_values, false_values, skipinitialspace, skiprows, skipfooter, nrows, na_values, keep_default_na, na_filter, verbose, skip_blank_lines, parse_dates, infer_datetime_format, keep_date_col, date_parser, date_format, dayfirst, cache_dates, iterator, chunksize, compression, thousands, decimal, lineterminator, quotechar, quoting, doublequote, escapechar, comment, encoding, encoding_errors, dialect, on_bad_lines, delim_whitespace, low_memory, memory_map, float_precision, storage_options, dtype_backend)\u001b[0m\n\u001b[1;32m    910\u001b[0m     \u001b[0mkwds\u001b[0m\u001b[0;34m.\u001b[0m\u001b[0mupdate\u001b[0m\u001b[0;34m(\u001b[0m\u001b[0mkwds_defaults\u001b[0m\u001b[0;34m)\u001b[0m\u001b[0;34m\u001b[0m\u001b[0;34m\u001b[0m\u001b[0m\n\u001b[1;32m    911\u001b[0m \u001b[0;34m\u001b[0m\u001b[0m\n\u001b[0;32m--> 912\u001b[0;31m     \u001b[0;32mreturn\u001b[0m \u001b[0m_read\u001b[0m\u001b[0;34m(\u001b[0m\u001b[0mfilepath_or_buffer\u001b[0m\u001b[0;34m,\u001b[0m \u001b[0mkwds\u001b[0m\u001b[0;34m)\u001b[0m\u001b[0;34m\u001b[0m\u001b[0;34m\u001b[0m\u001b[0m\n\u001b[0m\u001b[1;32m    913\u001b[0m \u001b[0;34m\u001b[0m\u001b[0m\n\u001b[1;32m    914\u001b[0m \u001b[0;34m\u001b[0m\u001b[0m\n",
            "\u001b[0;32m/usr/local/lib/python3.10/dist-packages/pandas/io/parsers/readers.py\u001b[0m in \u001b[0;36m_read\u001b[0;34m(filepath_or_buffer, kwds)\u001b[0m\n\u001b[1;32m    575\u001b[0m \u001b[0;34m\u001b[0m\u001b[0m\n\u001b[1;32m    576\u001b[0m     \u001b[0;31m# Create the parser.\u001b[0m\u001b[0;34m\u001b[0m\u001b[0;34m\u001b[0m\u001b[0m\n\u001b[0;32m--> 577\u001b[0;31m     \u001b[0mparser\u001b[0m \u001b[0;34m=\u001b[0m \u001b[0mTextFileReader\u001b[0m\u001b[0;34m(\u001b[0m\u001b[0mfilepath_or_buffer\u001b[0m\u001b[0;34m,\u001b[0m \u001b[0;34m**\u001b[0m\u001b[0mkwds\u001b[0m\u001b[0;34m)\u001b[0m\u001b[0;34m\u001b[0m\u001b[0;34m\u001b[0m\u001b[0m\n\u001b[0m\u001b[1;32m    578\u001b[0m \u001b[0;34m\u001b[0m\u001b[0m\n\u001b[1;32m    579\u001b[0m     \u001b[0;32mif\u001b[0m \u001b[0mchunksize\u001b[0m \u001b[0;32mor\u001b[0m \u001b[0miterator\u001b[0m\u001b[0;34m:\u001b[0m\u001b[0;34m\u001b[0m\u001b[0;34m\u001b[0m\u001b[0m\n",
            "\u001b[0;32m/usr/local/lib/python3.10/dist-packages/pandas/io/parsers/readers.py\u001b[0m in \u001b[0;36m__init__\u001b[0;34m(self, f, engine, **kwds)\u001b[0m\n\u001b[1;32m   1405\u001b[0m \u001b[0;34m\u001b[0m\u001b[0m\n\u001b[1;32m   1406\u001b[0m         \u001b[0mself\u001b[0m\u001b[0;34m.\u001b[0m\u001b[0mhandles\u001b[0m\u001b[0;34m:\u001b[0m \u001b[0mIOHandles\u001b[0m \u001b[0;34m|\u001b[0m \u001b[0;32mNone\u001b[0m \u001b[0;34m=\u001b[0m \u001b[0;32mNone\u001b[0m\u001b[0;34m\u001b[0m\u001b[0;34m\u001b[0m\u001b[0m\n\u001b[0;32m-> 1407\u001b[0;31m         \u001b[0mself\u001b[0m\u001b[0;34m.\u001b[0m\u001b[0m_engine\u001b[0m \u001b[0;34m=\u001b[0m \u001b[0mself\u001b[0m\u001b[0;34m.\u001b[0m\u001b[0m_make_engine\u001b[0m\u001b[0;34m(\u001b[0m\u001b[0mf\u001b[0m\u001b[0;34m,\u001b[0m \u001b[0mself\u001b[0m\u001b[0;34m.\u001b[0m\u001b[0mengine\u001b[0m\u001b[0;34m)\u001b[0m\u001b[0;34m\u001b[0m\u001b[0;34m\u001b[0m\u001b[0m\n\u001b[0m\u001b[1;32m   1408\u001b[0m \u001b[0;34m\u001b[0m\u001b[0m\n\u001b[1;32m   1409\u001b[0m     \u001b[0;32mdef\u001b[0m \u001b[0mclose\u001b[0m\u001b[0;34m(\u001b[0m\u001b[0mself\u001b[0m\u001b[0;34m)\u001b[0m \u001b[0;34m->\u001b[0m \u001b[0;32mNone\u001b[0m\u001b[0;34m:\u001b[0m\u001b[0;34m\u001b[0m\u001b[0;34m\u001b[0m\u001b[0m\n",
            "\u001b[0;32m/usr/local/lib/python3.10/dist-packages/pandas/io/parsers/readers.py\u001b[0m in \u001b[0;36m_make_engine\u001b[0;34m(self, f, engine)\u001b[0m\n\u001b[1;32m   1659\u001b[0m                 \u001b[0;32mif\u001b[0m \u001b[0;34m\"b\"\u001b[0m \u001b[0;32mnot\u001b[0m \u001b[0;32min\u001b[0m \u001b[0mmode\u001b[0m\u001b[0;34m:\u001b[0m\u001b[0;34m\u001b[0m\u001b[0;34m\u001b[0m\u001b[0m\n\u001b[1;32m   1660\u001b[0m                     \u001b[0mmode\u001b[0m \u001b[0;34m+=\u001b[0m \u001b[0;34m\"b\"\u001b[0m\u001b[0;34m\u001b[0m\u001b[0;34m\u001b[0m\u001b[0m\n\u001b[0;32m-> 1661\u001b[0;31m             self.handles = get_handle(\n\u001b[0m\u001b[1;32m   1662\u001b[0m                 \u001b[0mf\u001b[0m\u001b[0;34m,\u001b[0m\u001b[0;34m\u001b[0m\u001b[0;34m\u001b[0m\u001b[0m\n\u001b[1;32m   1663\u001b[0m                 \u001b[0mmode\u001b[0m\u001b[0;34m,\u001b[0m\u001b[0;34m\u001b[0m\u001b[0;34m\u001b[0m\u001b[0m\n",
            "\u001b[0;32m/usr/local/lib/python3.10/dist-packages/pandas/io/common.py\u001b[0m in \u001b[0;36mget_handle\u001b[0;34m(path_or_buf, mode, encoding, compression, memory_map, is_text, errors, storage_options)\u001b[0m\n\u001b[1;32m    857\u001b[0m         \u001b[0;32mif\u001b[0m \u001b[0mioargs\u001b[0m\u001b[0;34m.\u001b[0m\u001b[0mencoding\u001b[0m \u001b[0;32mand\u001b[0m \u001b[0;34m\"b\"\u001b[0m \u001b[0;32mnot\u001b[0m \u001b[0;32min\u001b[0m \u001b[0mioargs\u001b[0m\u001b[0;34m.\u001b[0m\u001b[0mmode\u001b[0m\u001b[0;34m:\u001b[0m\u001b[0;34m\u001b[0m\u001b[0;34m\u001b[0m\u001b[0m\n\u001b[1;32m    858\u001b[0m             \u001b[0;31m# Encoding\u001b[0m\u001b[0;34m\u001b[0m\u001b[0;34m\u001b[0m\u001b[0m\n\u001b[0;32m--> 859\u001b[0;31m             handle = open(\n\u001b[0m\u001b[1;32m    860\u001b[0m                 \u001b[0mhandle\u001b[0m\u001b[0;34m,\u001b[0m\u001b[0;34m\u001b[0m\u001b[0;34m\u001b[0m\u001b[0m\n\u001b[1;32m    861\u001b[0m                 \u001b[0mioargs\u001b[0m\u001b[0;34m.\u001b[0m\u001b[0mmode\u001b[0m\u001b[0;34m,\u001b[0m\u001b[0;34m\u001b[0m\u001b[0;34m\u001b[0m\u001b[0m\n",
            "\u001b[0;31mFileNotFoundError\u001b[0m: [Errno 2] No such file or directory: 'path/to/pets.csv'"
          ]
        }
      ]
    }
  ]
}